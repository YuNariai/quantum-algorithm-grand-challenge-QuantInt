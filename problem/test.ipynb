{
 "cells": [
  {
   "cell_type": "code",
   "execution_count": 1,
   "id": "1ee7abd7-94b3-4cef-a10e-ad2283bf456d",
   "metadata": {
    "tags": []
   },
   "outputs": [
    {
     "name": "stdout",
     "output_type": "stream",
     "text": [
      "Collecting openfermion\n",
      "  Using cached openfermion-1.6.0-py3-none-any.whl.metadata (10 kB)\n",
      "Requirement already satisfied: cirq-core~=1.0 in /opt/.qbraid/environments/qbraid_000000/pyenv/lib/python3.11/site-packages (from openfermion) (1.3.0.dev20231101215952)\n",
      "Collecting deprecation (from openfermion)\n",
      "  Using cached deprecation-2.1.0-py2.py3-none-any.whl (11 kB)\n",
      "Collecting h5py>=2.8 (from openfermion)\n",
      "  Using cached h5py-3.10.0-cp311-cp311-manylinux_2_17_x86_64.manylinux2014_x86_64.whl.metadata (2.5 kB)\n",
      "Requirement already satisfied: networkx in /opt/.qbraid/environments/qbraid_000000/pyenv/lib/python3.11/site-packages (from openfermion) (3.2.1)\n",
      "Requirement already satisfied: numpy>=1.11.0 in /opt/.qbraid/environments/qbraid_000000/pyenv/lib/python3.11/site-packages (from openfermion) (1.26.1)\n",
      "Collecting pubchempy (from openfermion)\n",
      "  Using cached PubChemPy-1.0.4-py3-none-any.whl\n",
      "Requirement already satisfied: requests>=2.18 in /opt/.qbraid/environments/qbraid_000000/pyenv/lib/python3.11/site-packages (from openfermion) (2.31.0)\n",
      "Collecting scipy<1.10.0,>=1.1.0 (from openfermion)\n",
      "  Using cached scipy-1.9.3-cp311-cp311-manylinux_2_17_x86_64.manylinux2014_x86_64.whl (33.4 MB)\n",
      "Requirement already satisfied: sympy in /opt/.qbraid/environments/qbraid_000000/pyenv/lib/python3.11/site-packages (from openfermion) (1.12)\n",
      "Requirement already satisfied: duet~=0.2.8 in /opt/.qbraid/environments/qbraid_000000/pyenv/lib/python3.11/site-packages (from cirq-core~=1.0->openfermion) (0.2.9)\n",
      "Requirement already satisfied: matplotlib~=3.0 in /opt/.qbraid/environments/qbraid_000000/pyenv/lib/python3.11/site-packages (from cirq-core~=1.0->openfermion) (3.8.1)\n",
      "Requirement already satisfied: pandas in /opt/.qbraid/environments/qbraid_000000/pyenv/lib/python3.11/site-packages (from cirq-core~=1.0->openfermion) (2.1.2)\n",
      "Requirement already satisfied: sortedcontainers~=2.0 in /opt/.qbraid/environments/qbraid_000000/pyenv/lib/python3.11/site-packages (from cirq-core~=1.0->openfermion) (2.4.0)\n",
      "Requirement already satisfied: typing-extensions>=4.2 in /opt/.qbraid/environments/qbraid_000000/pyenv/lib/python3.11/site-packages (from cirq-core~=1.0->openfermion) (4.8.0)\n",
      "Requirement already satisfied: tqdm in /opt/.qbraid/environments/qbraid_000000/pyenv/lib/python3.11/site-packages (from cirq-core~=1.0->openfermion) (4.66.1)\n",
      "Requirement already satisfied: charset-normalizer<4,>=2 in /opt/.qbraid/environments/qbraid_000000/pyenv/lib/python3.11/site-packages (from requests>=2.18->openfermion) (3.3.2)\n",
      "Requirement already satisfied: idna<4,>=2.5 in /opt/.qbraid/environments/qbraid_000000/pyenv/lib/python3.11/site-packages (from requests>=2.18->openfermion) (3.4)\n",
      "Requirement already satisfied: urllib3<3,>=1.21.1 in /opt/.qbraid/environments/qbraid_000000/pyenv/lib/python3.11/site-packages (from requests>=2.18->openfermion) (1.26.18)\n",
      "Requirement already satisfied: certifi>=2017.4.17 in /opt/.qbraid/environments/qbraid_000000/pyenv/lib/python3.11/site-packages (from requests>=2.18->openfermion) (2023.7.22)\n",
      "Collecting numpy>=1.11.0 (from openfermion)\n",
      "  Using cached numpy-1.25.2-cp311-cp311-manylinux_2_17_x86_64.manylinux2014_x86_64.whl.metadata (5.6 kB)\n",
      "Requirement already satisfied: packaging in /opt/.qbraid/environments/qbraid_000000/pyenv/lib/python3.11/site-packages (from deprecation->openfermion) (23.2)\n",
      "Requirement already satisfied: mpmath>=0.19 in /opt/.qbraid/environments/qbraid_000000/pyenv/lib/python3.11/site-packages (from sympy->openfermion) (1.3.0)\n",
      "Requirement already satisfied: contourpy>=1.0.1 in /opt/.qbraid/environments/qbraid_000000/pyenv/lib/python3.11/site-packages (from matplotlib~=3.0->cirq-core~=1.0->openfermion) (1.1.1)\n",
      "Requirement already satisfied: cycler>=0.10 in /opt/.qbraid/environments/qbraid_000000/pyenv/lib/python3.11/site-packages (from matplotlib~=3.0->cirq-core~=1.0->openfermion) (0.12.1)\n",
      "Requirement already satisfied: fonttools>=4.22.0 in /opt/.qbraid/environments/qbraid_000000/pyenv/lib/python3.11/site-packages (from matplotlib~=3.0->cirq-core~=1.0->openfermion) (4.43.1)\n",
      "Requirement already satisfied: kiwisolver>=1.3.1 in /opt/.qbraid/environments/qbraid_000000/pyenv/lib/python3.11/site-packages (from matplotlib~=3.0->cirq-core~=1.0->openfermion) (1.4.5)\n",
      "Requirement already satisfied: pillow>=8 in /opt/.qbraid/environments/qbraid_000000/pyenv/lib/python3.11/site-packages (from matplotlib~=3.0->cirq-core~=1.0->openfermion) (10.1.0)\n",
      "Requirement already satisfied: pyparsing>=2.3.1 in /opt/.qbraid/environments/qbraid_000000/pyenv/lib/python3.11/site-packages (from matplotlib~=3.0->cirq-core~=1.0->openfermion) (3.1.1)\n",
      "Requirement already satisfied: python-dateutil>=2.7 in /opt/.qbraid/environments/qbraid_000000/pyenv/lib/python3.11/site-packages (from matplotlib~=3.0->cirq-core~=1.0->openfermion) (2.8.2)\n",
      "Requirement already satisfied: pytz>=2020.1 in /opt/.qbraid/environments/qbraid_000000/pyenv/lib/python3.11/site-packages (from pandas->cirq-core~=1.0->openfermion) (2023.3.post1)\n",
      "Requirement already satisfied: tzdata>=2022.1 in /opt/.qbraid/environments/qbraid_000000/pyenv/lib/python3.11/site-packages (from pandas->cirq-core~=1.0->openfermion) (2023.3)\n",
      "Requirement already satisfied: six>=1.5 in /opt/.qbraid/environments/qbraid_000000/pyenv/lib/python3.11/site-packages (from python-dateutil>=2.7->matplotlib~=3.0->cirq-core~=1.0->openfermion) (1.16.0)\n",
      "Using cached openfermion-1.6.0-py3-none-any.whl (1.2 MB)\n",
      "Using cached h5py-3.10.0-cp311-cp311-manylinux_2_17_x86_64.manylinux2014_x86_64.whl (4.8 MB)\n",
      "Using cached numpy-1.25.2-cp311-cp311-manylinux_2_17_x86_64.manylinux2014_x86_64.whl (18.2 MB)\n",
      "Installing collected packages: pubchempy, numpy, deprecation, scipy, h5py, openfermion\n",
      "  Attempting uninstall: numpy\n",
      "    Found existing installation: numpy 1.26.1\n",
      "    Uninstalling numpy-1.26.1:\n",
      "      Successfully uninstalled numpy-1.26.1\n",
      "  Attempting uninstall: scipy\n",
      "    Found existing installation: scipy 1.11.3\n",
      "    Uninstalling scipy-1.11.3:\n",
      "      Successfully uninstalled scipy-1.11.3\n",
      "Successfully installed deprecation-2.1.0 h5py-3.10.0 numpy-1.25.2 openfermion-1.6.0 pubchempy-1.0.4 scipy-1.9.3\n",
      "Note: you may need to restart the kernel to use updated packages.\n"
     ]
    }
   ],
   "source": [
    "%pip install openfermion"
   ]
  },
  {
   "cell_type": "code",
   "execution_count": 2,
   "id": "5edafa43-fd5c-418c-b1fa-438c402949ae",
   "metadata": {
    "tags": []
   },
   "outputs": [
    {
     "name": "stdout",
     "output_type": "stream",
     "text": [
      "Collecting quri_parts\n",
      "  Using cached quri_parts-0.15.1-py3-none-any.whl.metadata (6.4 kB)\n",
      "Collecting quri-parts-algo (from quri_parts)\n",
      "  Using cached quri_parts_algo-0.15.1-py3-none-any.whl.metadata (1.2 kB)\n",
      "Collecting quri-parts-chem (from quri_parts)\n",
      "  Using cached quri_parts_chem-0.15.1-py3-none-any.whl.metadata (1.1 kB)\n",
      "Collecting quri-parts-circuit (from quri_parts)\n",
      "  Using cached quri_parts_circuit-0.15.1-py3-none-any.whl.metadata (1.1 kB)\n",
      "Collecting quri-parts-core (from quri_parts)\n",
      "  Using cached quri_parts_core-0.15.1-py3-none-any.whl.metadata (1.2 kB)\n",
      "Requirement already satisfied: scipy<2.0.0,>=1.9.1 in /opt/.qbraid/environments/qbraid_000000/pyenv/lib/python3.11/site-packages (from quri-parts-algo->quri_parts) (1.9.3)\n",
      "Requirement already satisfied: typing-extensions<5.0.0,>=4.1.1 in /opt/.qbraid/environments/qbraid_000000/pyenv/lib/python3.11/site-packages (from quri-parts-algo->quri_parts) (4.8.0)\n",
      "Requirement already satisfied: numpy>=1.22.0 in /opt/.qbraid/environments/qbraid_000000/pyenv/lib/python3.11/site-packages (from quri-parts-circuit->quri_parts) (1.25.2)\n",
      "Collecting scipy<2.0.0,>=1.9.1 (from quri-parts-algo->quri_parts)\n",
      "  Using cached scipy-1.11.3-cp311-cp311-manylinux_2_17_x86_64.manylinux2014_x86_64.whl.metadata (60 kB)\n",
      "Using cached quri_parts-0.15.1-py3-none-any.whl (7.5 kB)\n",
      "Using cached quri_parts_algo-0.15.1-py3-none-any.whl (40 kB)\n",
      "Using cached quri_parts_chem-0.15.1-py3-none-any.whl (26 kB)\n",
      "Using cached quri_parts_circuit-0.15.1-py3-none-any.whl (63 kB)\n",
      "Using cached quri_parts_core-0.15.1-py3-none-any.whl (70 kB)\n",
      "Using cached scipy-1.11.3-cp311-cp311-manylinux_2_17_x86_64.manylinux2014_x86_64.whl (36.4 MB)\n",
      "Installing collected packages: scipy, quri-parts-circuit, quri-parts-core, quri-parts-chem, quri-parts-algo, quri_parts\n",
      "  Attempting uninstall: scipy\n",
      "    Found existing installation: scipy 1.9.3\n",
      "    Uninstalling scipy-1.9.3:\n",
      "      Successfully uninstalled scipy-1.9.3\n",
      "\u001b[31mERROR: pip's dependency resolver does not currently take into account all the packages that are installed. This behaviour is the source of the following dependency conflicts.\n",
      "openfermion 1.6.0 requires scipy<1.10.0,>=1.1.0, but you have scipy 1.11.3 which is incompatible.\u001b[0m\u001b[31m\n",
      "\u001b[0mSuccessfully installed quri-parts-algo-0.15.1 quri-parts-chem-0.15.1 quri-parts-circuit-0.15.1 quri-parts-core-0.15.1 quri_parts-0.15.1 scipy-1.11.3\n",
      "Note: you may need to restart the kernel to use updated packages.\n"
     ]
    }
   ],
   "source": [
    "%pip install quri_parts"
   ]
  },
  {
   "cell_type": "code",
   "execution_count": 3,
   "id": "4129bb3c-0f23-4759-9347-70c47f240fdf",
   "metadata": {
    "tags": []
   },
   "outputs": [
    {
     "name": "stdout",
     "output_type": "stream",
     "text": [
      "Requirement already satisfied: quri-parts[openfermion,qiskit] in /opt/.qbraid/environments/qbraid_000000/pyenv/lib/python3.11/site-packages (0.15.1)\n",
      "Requirement already satisfied: quri-parts-algo in /opt/.qbraid/environments/qbraid_000000/pyenv/lib/python3.11/site-packages (from quri-parts[openfermion,qiskit]) (0.15.1)\n",
      "Requirement already satisfied: quri-parts-chem in /opt/.qbraid/environments/qbraid_000000/pyenv/lib/python3.11/site-packages (from quri-parts[openfermion,qiskit]) (0.15.1)\n",
      "Requirement already satisfied: quri-parts-circuit in /opt/.qbraid/environments/qbraid_000000/pyenv/lib/python3.11/site-packages (from quri-parts[openfermion,qiskit]) (0.15.1)\n",
      "Requirement already satisfied: quri-parts-core in /opt/.qbraid/environments/qbraid_000000/pyenv/lib/python3.11/site-packages (from quri-parts[openfermion,qiskit]) (0.15.1)\n",
      "Collecting quri-parts-openfermion (from quri-parts[openfermion,qiskit])\n",
      "  Using cached quri_parts_openfermion-0.15.1-py3-none-any.whl.metadata (1.2 kB)\n",
      "Collecting quri-parts-qiskit (from quri-parts[openfermion,qiskit])\n",
      "  Using cached quri_parts_qiskit-0.15.1-py3-none-any.whl.metadata (1.3 kB)\n",
      "Requirement already satisfied: scipy<2.0.0,>=1.9.1 in /opt/.qbraid/environments/qbraid_000000/pyenv/lib/python3.11/site-packages (from quri-parts-algo->quri-parts[openfermion,qiskit]) (1.11.3)\n",
      "Requirement already satisfied: typing-extensions<5.0.0,>=4.1.1 in /opt/.qbraid/environments/qbraid_000000/pyenv/lib/python3.11/site-packages (from quri-parts-algo->quri-parts[openfermion,qiskit]) (4.8.0)\n",
      "Requirement already satisfied: numpy>=1.22.0 in /opt/.qbraid/environments/qbraid_000000/pyenv/lib/python3.11/site-packages (from quri-parts-circuit->quri-parts[openfermion,qiskit]) (1.25.2)\n",
      "Requirement already satisfied: openfermion<2.0.0,>=1.5.1 in /opt/.qbraid/environments/qbraid_000000/pyenv/lib/python3.11/site-packages (from quri-parts-openfermion->quri-parts[openfermion,qiskit]) (1.6.0)\n",
      "Requirement already satisfied: networkx in /opt/.qbraid/environments/qbraid_000000/pyenv/lib/python3.11/site-packages (from quri-parts-qiskit->quri-parts[openfermion,qiskit]) (3.2.1)\n",
      "Requirement already satisfied: pydantic<2.0,>=1.9 in /opt/.qbraid/environments/qbraid_000000/pyenv/lib/python3.11/site-packages (from quri-parts-qiskit->quri-parts[openfermion,qiskit]) (1.10.13)\n",
      "Requirement already satisfied: qiskit<1,>=0.41.1 in /opt/.qbraid/environments/qbraid_000000/pyenv/lib/python3.11/site-packages (from quri-parts-qiskit->quri-parts[openfermion,qiskit]) (0.44.3)\n",
      "Requirement already satisfied: qiskit-ibm-runtime<1,>=0.9.0 in /opt/.qbraid/environments/qbraid_000000/pyenv/lib/python3.11/site-packages (from quri-parts-qiskit->quri-parts[openfermion,qiskit]) (0.13.0)\n",
      "Requirement already satisfied: cirq-core~=1.0 in /opt/.qbraid/environments/qbraid_000000/pyenv/lib/python3.11/site-packages (from openfermion<2.0.0,>=1.5.1->quri-parts-openfermion->quri-parts[openfermion,qiskit]) (1.3.0.dev20231101215952)\n",
      "Requirement already satisfied: deprecation in /opt/.qbraid/environments/qbraid_000000/pyenv/lib/python3.11/site-packages (from openfermion<2.0.0,>=1.5.1->quri-parts-openfermion->quri-parts[openfermion,qiskit]) (2.1.0)\n",
      "Requirement already satisfied: h5py>=2.8 in /opt/.qbraid/environments/qbraid_000000/pyenv/lib/python3.11/site-packages (from openfermion<2.0.0,>=1.5.1->quri-parts-openfermion->quri-parts[openfermion,qiskit]) (3.10.0)\n",
      "Requirement already satisfied: pubchempy in /opt/.qbraid/environments/qbraid_000000/pyenv/lib/python3.11/site-packages (from openfermion<2.0.0,>=1.5.1->quri-parts-openfermion->quri-parts[openfermion,qiskit]) (1.0.4)\n",
      "Requirement already satisfied: requests>=2.18 in /opt/.qbraid/environments/qbraid_000000/pyenv/lib/python3.11/site-packages (from openfermion<2.0.0,>=1.5.1->quri-parts-openfermion->quri-parts[openfermion,qiskit]) (2.31.0)\n",
      "INFO: pip is looking at multiple versions of openfermion to determine which version is compatible with other requirements. This could take a while.\n",
      "Collecting openfermion<2.0.0,>=1.5.1 (from quri-parts-openfermion->quri-parts[openfermion,qiskit])\n",
      "  Using cached openfermion-1.5.1-py3-none-any.whl (1.1 MB)\n",
      "Collecting cirq-google>=0.15.0 (from openfermion<2.0.0,>=1.5.1->quri-parts-openfermion->quri-parts[openfermion,qiskit])\n",
      "  Using cached cirq_google-1.2.0-py3-none-any.whl.metadata (2.0 kB)\n",
      "Requirement already satisfied: sympy in /opt/.qbraid/environments/qbraid_000000/pyenv/lib/python3.11/site-packages (from openfermion<2.0.0,>=1.5.1->quri-parts-openfermion->quri-parts[openfermion,qiskit]) (1.12)\n",
      "Requirement already satisfied: qiskit-terra==0.25.3 in /opt/.qbraid/environments/qbraid_000000/pyenv/lib/python3.11/site-packages (from qiskit<1,>=0.41.1->quri-parts-qiskit->quri-parts[openfermion,qiskit]) (0.25.3)\n",
      "Requirement already satisfied: rustworkx>=0.13.0 in /opt/.qbraid/environments/qbraid_000000/pyenv/lib/python3.11/site-packages (from qiskit-terra==0.25.3->qiskit<1,>=0.41.1->quri-parts-qiskit->quri-parts[openfermion,qiskit]) (0.13.2)\n",
      "Requirement already satisfied: ply>=3.10 in /opt/.qbraid/environments/qbraid_000000/pyenv/lib/python3.11/site-packages (from qiskit-terra==0.25.3->qiskit<1,>=0.41.1->quri-parts-qiskit->quri-parts[openfermion,qiskit]) (3.11)\n",
      "Requirement already satisfied: psutil>=5 in /opt/.qbraid/environments/qbraid_000000/pyenv/lib/python3.11/site-packages (from qiskit-terra==0.25.3->qiskit<1,>=0.41.1->quri-parts-qiskit->quri-parts[openfermion,qiskit]) (5.9.6)\n",
      "Requirement already satisfied: dill>=0.3 in /opt/.qbraid/environments/qbraid_000000/pyenv/lib/python3.11/site-packages (from qiskit-terra==0.25.3->qiskit<1,>=0.41.1->quri-parts-qiskit->quri-parts[openfermion,qiskit]) (0.3.7)\n",
      "Requirement already satisfied: python-dateutil>=2.8.0 in /opt/.qbraid/environments/qbraid_000000/pyenv/lib/python3.11/site-packages (from qiskit-terra==0.25.3->qiskit<1,>=0.41.1->quri-parts-qiskit->quri-parts[openfermion,qiskit]) (2.8.2)\n",
      "Requirement already satisfied: stevedore>=3.0.0 in /opt/.qbraid/environments/qbraid_000000/pyenv/lib/python3.11/site-packages (from qiskit-terra==0.25.3->qiskit<1,>=0.41.1->quri-parts-qiskit->quri-parts[openfermion,qiskit]) (5.1.0)\n",
      "Requirement already satisfied: symengine<0.10,>=0.9 in /opt/.qbraid/environments/qbraid_000000/pyenv/lib/python3.11/site-packages (from qiskit-terra==0.25.3->qiskit<1,>=0.41.1->quri-parts-qiskit->quri-parts[openfermion,qiskit]) (0.9.2)\n",
      "Requirement already satisfied: requests-ntlm>=1.1.0 in /opt/.qbraid/environments/qbraid_000000/pyenv/lib/python3.11/site-packages (from qiskit-ibm-runtime<1,>=0.9.0->quri-parts-qiskit->quri-parts[openfermion,qiskit]) (1.2.0)\n",
      "Requirement already satisfied: urllib3>=1.21.1 in /opt/.qbraid/environments/qbraid_000000/pyenv/lib/python3.11/site-packages (from qiskit-ibm-runtime<1,>=0.9.0->quri-parts-qiskit->quri-parts[openfermion,qiskit]) (1.26.18)\n",
      "Requirement already satisfied: websocket-client>=1.5.1 in /opt/.qbraid/environments/qbraid_000000/pyenv/lib/python3.11/site-packages (from qiskit-ibm-runtime<1,>=0.9.0->quri-parts-qiskit->quri-parts[openfermion,qiskit]) (1.6.4)\n",
      "Requirement already satisfied: ibm-platform-services>=0.22.6 in /opt/.qbraid/environments/qbraid_000000/pyenv/lib/python3.11/site-packages (from qiskit-ibm-runtime<1,>=0.9.0->quri-parts-qiskit->quri-parts[openfermion,qiskit]) (0.45.1)\n",
      "Requirement already satisfied: qiskit-ibm-provider>=0.7.0 in /opt/.qbraid/environments/qbraid_000000/pyenv/lib/python3.11/site-packages (from qiskit-ibm-runtime<1,>=0.9.0->quri-parts-qiskit->quri-parts[openfermion,qiskit]) (0.7.2)\n",
      "Requirement already satisfied: duet~=0.2.8 in /opt/.qbraid/environments/qbraid_000000/pyenv/lib/python3.11/site-packages (from cirq-core~=1.0->openfermion<2.0.0,>=1.5.1->quri-parts-openfermion->quri-parts[openfermion,qiskit]) (0.2.9)\n",
      "Requirement already satisfied: matplotlib~=3.0 in /opt/.qbraid/environments/qbraid_000000/pyenv/lib/python3.11/site-packages (from cirq-core~=1.0->openfermion<2.0.0,>=1.5.1->quri-parts-openfermion->quri-parts[openfermion,qiskit]) (3.8.1)\n",
      "Requirement already satisfied: pandas in /opt/.qbraid/environments/qbraid_000000/pyenv/lib/python3.11/site-packages (from cirq-core~=1.0->openfermion<2.0.0,>=1.5.1->quri-parts-openfermion->quri-parts[openfermion,qiskit]) (2.1.2)\n",
      "Requirement already satisfied: sortedcontainers~=2.0 in /opt/.qbraid/environments/qbraid_000000/pyenv/lib/python3.11/site-packages (from cirq-core~=1.0->openfermion<2.0.0,>=1.5.1->quri-parts-openfermion->quri-parts[openfermion,qiskit]) (2.4.0)\n",
      "Requirement already satisfied: tqdm in /opt/.qbraid/environments/qbraid_000000/pyenv/lib/python3.11/site-packages (from cirq-core~=1.0->openfermion<2.0.0,>=1.5.1->quri-parts-openfermion->quri-parts[openfermion,qiskit]) (4.66.1)\n",
      "Collecting google-api-core>=1.14.0 (from google-api-core[grpc]>=1.14.0->cirq-google>=0.15.0->openfermion<2.0.0,>=1.5.1->quri-parts-openfermion->quri-parts[openfermion,qiskit])\n",
      "  Using cached google_api_core-2.14.0-py3-none-any.whl.metadata (2.6 kB)\n",
      "Collecting proto-plus>=1.20.0 (from cirq-google>=0.15.0->openfermion<2.0.0,>=1.5.1->quri-parts-openfermion->quri-parts[openfermion,qiskit])\n",
      "  Using cached proto_plus-1.22.3-py3-none-any.whl.metadata (2.2 kB)\n",
      "Collecting protobuf>=3.15.0 (from cirq-google>=0.15.0->openfermion<2.0.0,>=1.5.1->quri-parts-openfermion->quri-parts[openfermion,qiskit])\n",
      "  Using cached protobuf-4.25.0-cp37-abi3-manylinux2014_x86_64.whl.metadata (541 bytes)\n",
      "Collecting cirq-core>=0.15.0 (from openfermion<2.0.0,>=1.5.1->quri-parts-openfermion->quri-parts[openfermion,qiskit])\n",
      "  Using cached cirq_core-1.2.0-py3-none-any.whl.metadata (1.9 kB)\n",
      "Requirement already satisfied: ibm-cloud-sdk-core<4.0.0,>=3.17.0 in /opt/.qbraid/environments/qbraid_000000/pyenv/lib/python3.11/site-packages (from ibm-platform-services>=0.22.6->qiskit-ibm-runtime<1,>=0.9.0->quri-parts-qiskit->quri-parts[openfermion,qiskit]) (3.17.2)\n",
      "Requirement already satisfied: six>=1.5 in /opt/.qbraid/environments/qbraid_000000/pyenv/lib/python3.11/site-packages (from python-dateutil>=2.8.0->qiskit-terra==0.25.3->qiskit<1,>=0.41.1->quri-parts-qiskit->quri-parts[openfermion,qiskit]) (1.16.0)\n",
      "Requirement already satisfied: websockets>=10.0 in /opt/.qbraid/environments/qbraid_000000/pyenv/lib/python3.11/site-packages (from qiskit-ibm-provider>=0.7.0->qiskit-ibm-runtime<1,>=0.9.0->quri-parts-qiskit->quri-parts[openfermion,qiskit]) (12.0)\n",
      "Requirement already satisfied: charset-normalizer<4,>=2 in /opt/.qbraid/environments/qbraid_000000/pyenv/lib/python3.11/site-packages (from requests>=2.18->openfermion<2.0.0,>=1.5.1->quri-parts-openfermion->quri-parts[openfermion,qiskit]) (3.3.2)\n",
      "Requirement already satisfied: idna<4,>=2.5 in /opt/.qbraid/environments/qbraid_000000/pyenv/lib/python3.11/site-packages (from requests>=2.18->openfermion<2.0.0,>=1.5.1->quri-parts-openfermion->quri-parts[openfermion,qiskit]) (3.4)\n",
      "Requirement already satisfied: certifi>=2017.4.17 in /opt/.qbraid/environments/qbraid_000000/pyenv/lib/python3.11/site-packages (from requests>=2.18->openfermion<2.0.0,>=1.5.1->quri-parts-openfermion->quri-parts[openfermion,qiskit]) (2023.7.22)\n",
      "Requirement already satisfied: cryptography>=1.3 in /opt/.qbraid/environments/qbraid_000000/pyenv/lib/python3.11/site-packages (from requests-ntlm>=1.1.0->qiskit-ibm-runtime<1,>=0.9.0->quri-parts-qiskit->quri-parts[openfermion,qiskit]) (41.0.5)\n",
      "Requirement already satisfied: pyspnego>=0.1.6 in /opt/.qbraid/environments/qbraid_000000/pyenv/lib/python3.11/site-packages (from requests-ntlm>=1.1.0->qiskit-ibm-runtime<1,>=0.9.0->quri-parts-qiskit->quri-parts[openfermion,qiskit]) (0.10.2)\n",
      "Requirement already satisfied: mpmath>=0.19 in /opt/.qbraid/environments/qbraid_000000/pyenv/lib/python3.11/site-packages (from sympy->openfermion<2.0.0,>=1.5.1->quri-parts-openfermion->quri-parts[openfermion,qiskit]) (1.3.0)\n",
      "Requirement already satisfied: packaging in /opt/.qbraid/environments/qbraid_000000/pyenv/lib/python3.11/site-packages (from deprecation->openfermion<2.0.0,>=1.5.1->quri-parts-openfermion->quri-parts[openfermion,qiskit]) (23.2)\n",
      "Requirement already satisfied: cffi>=1.12 in /opt/.qbraid/environments/qbraid_000000/pyenv/lib/python3.11/site-packages (from cryptography>=1.3->requests-ntlm>=1.1.0->qiskit-ibm-runtime<1,>=0.9.0->quri-parts-qiskit->quri-parts[openfermion,qiskit]) (1.16.0)\n",
      "Collecting googleapis-common-protos<2.0.dev0,>=1.56.2 (from google-api-core>=1.14.0->google-api-core[grpc]>=1.14.0->cirq-google>=0.15.0->openfermion<2.0.0,>=1.5.1->quri-parts-openfermion->quri-parts[openfermion,qiskit])\n",
      "  Using cached googleapis_common_protos-1.61.0-py2.py3-none-any.whl.metadata (1.5 kB)\n",
      "Collecting google-auth<3.0.dev0,>=2.14.1 (from google-api-core>=1.14.0->google-api-core[grpc]>=1.14.0->cirq-google>=0.15.0->openfermion<2.0.0,>=1.5.1->quri-parts-openfermion->quri-parts[openfermion,qiskit])\n",
      "  Using cached google_auth-2.23.4-py2.py3-none-any.whl.metadata (4.7 kB)\n",
      "Collecting grpcio<2.0dev,>=1.33.2 (from google-api-core[grpc]>=1.14.0->cirq-google>=0.15.0->openfermion<2.0.0,>=1.5.1->quri-parts-openfermion->quri-parts[openfermion,qiskit])\n",
      "  Using cached grpcio-1.59.2-cp311-cp311-manylinux_2_17_x86_64.manylinux2014_x86_64.whl.metadata (4.0 kB)\n",
      "Collecting grpcio-status<2.0.dev0,>=1.33.2 (from google-api-core[grpc]>=1.14.0->cirq-google>=0.15.0->openfermion<2.0.0,>=1.5.1->quri-parts-openfermion->quri-parts[openfermion,qiskit])\n",
      "  Using cached grpcio_status-1.59.2-py3-none-any.whl.metadata (1.3 kB)\n",
      "Requirement already satisfied: PyJWT<3.0.0,>=2.8.0 in /opt/.qbraid/environments/qbraid_000000/pyenv/lib/python3.11/site-packages (from ibm-cloud-sdk-core<4.0.0,>=3.17.0->ibm-platform-services>=0.22.6->qiskit-ibm-runtime<1,>=0.9.0->quri-parts-qiskit->quri-parts[openfermion,qiskit]) (2.8.0)\n",
      "Requirement already satisfied: contourpy>=1.0.1 in /opt/.qbraid/environments/qbraid_000000/pyenv/lib/python3.11/site-packages (from matplotlib~=3.0->cirq-core~=1.0->openfermion<2.0.0,>=1.5.1->quri-parts-openfermion->quri-parts[openfermion,qiskit]) (1.1.1)\n",
      "Requirement already satisfied: cycler>=0.10 in /opt/.qbraid/environments/qbraid_000000/pyenv/lib/python3.11/site-packages (from matplotlib~=3.0->cirq-core~=1.0->openfermion<2.0.0,>=1.5.1->quri-parts-openfermion->quri-parts[openfermion,qiskit]) (0.12.1)\n",
      "Requirement already satisfied: fonttools>=4.22.0 in /opt/.qbraid/environments/qbraid_000000/pyenv/lib/python3.11/site-packages (from matplotlib~=3.0->cirq-core~=1.0->openfermion<2.0.0,>=1.5.1->quri-parts-openfermion->quri-parts[openfermion,qiskit]) (4.43.1)\n",
      "Requirement already satisfied: kiwisolver>=1.3.1 in /opt/.qbraid/environments/qbraid_000000/pyenv/lib/python3.11/site-packages (from matplotlib~=3.0->cirq-core~=1.0->openfermion<2.0.0,>=1.5.1->quri-parts-openfermion->quri-parts[openfermion,qiskit]) (1.4.5)\n",
      "Requirement already satisfied: pillow>=8 in /opt/.qbraid/environments/qbraid_000000/pyenv/lib/python3.11/site-packages (from matplotlib~=3.0->cirq-core~=1.0->openfermion<2.0.0,>=1.5.1->quri-parts-openfermion->quri-parts[openfermion,qiskit]) (10.1.0)\n",
      "Requirement already satisfied: pyparsing>=2.3.1 in /opt/.qbraid/environments/qbraid_000000/pyenv/lib/python3.11/site-packages (from matplotlib~=3.0->cirq-core~=1.0->openfermion<2.0.0,>=1.5.1->quri-parts-openfermion->quri-parts[openfermion,qiskit]) (3.1.1)\n",
      "Requirement already satisfied: pbr!=2.1.0,>=2.0.0 in /opt/.qbraid/environments/qbraid_000000/pyenv/lib/python3.11/site-packages (from stevedore>=3.0.0->qiskit-terra==0.25.3->qiskit<1,>=0.41.1->quri-parts-qiskit->quri-parts[openfermion,qiskit]) (5.11.1)\n",
      "Requirement already satisfied: pytz>=2020.1 in /opt/.qbraid/environments/qbraid_000000/pyenv/lib/python3.11/site-packages (from pandas->cirq-core~=1.0->openfermion<2.0.0,>=1.5.1->quri-parts-openfermion->quri-parts[openfermion,qiskit]) (2023.3.post1)\n",
      "Requirement already satisfied: tzdata>=2022.1 in /opt/.qbraid/environments/qbraid_000000/pyenv/lib/python3.11/site-packages (from pandas->cirq-core~=1.0->openfermion<2.0.0,>=1.5.1->quri-parts-openfermion->quri-parts[openfermion,qiskit]) (2023.3)\n",
      "Requirement already satisfied: pycparser in /opt/.qbraid/environments/qbraid_000000/pyenv/lib/python3.11/site-packages (from cffi>=1.12->cryptography>=1.3->requests-ntlm>=1.1.0->qiskit-ibm-runtime<1,>=0.9.0->quri-parts-qiskit->quri-parts[openfermion,qiskit]) (2.21)\n",
      "Requirement already satisfied: cachetools<6.0,>=2.0.0 in /opt/.qbraid/environments/qbraid_000000/pyenv/lib/python3.11/site-packages (from google-auth<3.0.dev0,>=2.14.1->google-api-core>=1.14.0->google-api-core[grpc]>=1.14.0->cirq-google>=0.15.0->openfermion<2.0.0,>=1.5.1->quri-parts-openfermion->quri-parts[openfermion,qiskit]) (5.3.2)\n",
      "Collecting pyasn1-modules>=0.2.1 (from google-auth<3.0.dev0,>=2.14.1->google-api-core>=1.14.0->google-api-core[grpc]>=1.14.0->cirq-google>=0.15.0->openfermion<2.0.0,>=1.5.1->quri-parts-openfermion->quri-parts[openfermion,qiskit])\n",
      "  Using cached pyasn1_modules-0.3.0-py2.py3-none-any.whl (181 kB)\n",
      "Collecting rsa<5,>=3.1.4 (from google-auth<3.0.dev0,>=2.14.1->google-api-core>=1.14.0->google-api-core[grpc]>=1.14.0->cirq-google>=0.15.0->openfermion<2.0.0,>=1.5.1->quri-parts-openfermion->quri-parts[openfermion,qiskit])\n",
      "  Using cached rsa-4.9-py3-none-any.whl (34 kB)\n",
      "Collecting pyasn1<0.6.0,>=0.4.6 (from pyasn1-modules>=0.2.1->google-auth<3.0.dev0,>=2.14.1->google-api-core>=1.14.0->google-api-core[grpc]>=1.14.0->cirq-google>=0.15.0->openfermion<2.0.0,>=1.5.1->quri-parts-openfermion->quri-parts[openfermion,qiskit])\n",
      "  Using cached pyasn1-0.5.0-py2.py3-none-any.whl (83 kB)\n",
      "Using cached quri_parts_openfermion-0.15.1-py3-none-any.whl (23 kB)\n",
      "Using cached quri_parts_qiskit-0.15.1-py3-none-any.whl (28 kB)\n",
      "Using cached cirq_google-1.2.0-py3-none-any.whl (579 kB)\n",
      "Using cached cirq_core-1.2.0-py3-none-any.whl (1.8 MB)\n",
      "Using cached google_api_core-2.14.0-py3-none-any.whl (122 kB)\n",
      "Using cached proto_plus-1.22.3-py3-none-any.whl (48 kB)\n",
      "Using cached protobuf-4.25.0-cp37-abi3-manylinux2014_x86_64.whl (294 kB)\n",
      "Using cached google_auth-2.23.4-py2.py3-none-any.whl (183 kB)\n",
      "Using cached googleapis_common_protos-1.61.0-py2.py3-none-any.whl (230 kB)\n",
      "Using cached grpcio-1.59.2-cp311-cp311-manylinux_2_17_x86_64.manylinux2014_x86_64.whl (5.3 MB)\n",
      "Using cached grpcio_status-1.59.2-py3-none-any.whl (14 kB)\n",
      "Installing collected packages: pyasn1, protobuf, grpcio, rsa, pyasn1-modules, proto-plus, googleapis-common-protos, grpcio-status, google-auth, cirq-core, google-api-core, cirq-google, quri-parts-qiskit, openfermion, quri-parts-openfermion\n",
      "  Attempting uninstall: cirq-core\n",
      "    Found existing installation: cirq-core 1.3.0.dev20231101215952\n",
      "    Uninstalling cirq-core-1.3.0.dev20231101215952:\n",
      "      Successfully uninstalled cirq-core-1.3.0.dev20231101215952\n",
      "  Attempting uninstall: openfermion\n",
      "    Found existing installation: openfermion 1.6.0\n",
      "    Uninstalling openfermion-1.6.0:\n",
      "      Successfully uninstalled openfermion-1.6.0\n",
      "\u001b[31mERROR: pip's dependency resolver does not currently take into account all the packages that are installed. This behaviour is the source of the following dependency conflicts.\n",
      "qbraid 0.5.0.dev20231031131353 requires cirq-core<1.4.0,>=1.3.0.dev20230801170401, but you have cirq-core 1.2.0 which is incompatible.\n",
      "cirq-ionq 1.3.0.dev20231101215952 requires cirq-core==1.3.0.dev20231101215952, but you have cirq-core 1.2.0 which is incompatible.\u001b[0m\u001b[31m\n",
      "\u001b[0mSuccessfully installed cirq-core-1.2.0 cirq-google-1.2.0 google-api-core-2.14.0 google-auth-2.23.4 googleapis-common-protos-1.61.0 grpcio-1.59.2 grpcio-status-1.59.2 openfermion-1.5.1 proto-plus-1.22.3 protobuf-4.25.0 pyasn1-0.5.0 pyasn1-modules-0.3.0 quri-parts-openfermion-0.15.1 quri-parts-qiskit-0.15.1 rsa-4.9\n",
      "Note: you may need to restart the kernel to use updated packages.\n"
     ]
    }
   ],
   "source": [
    "%pip install \"quri-parts[openfermion,qiskit]\""
   ]
  },
  {
   "cell_type": "code",
   "execution_count": 4,
   "id": "7ad3a218-3c6b-4637-88ff-fd1e35e87e32",
   "metadata": {
    "tags": []
   },
   "outputs": [
    {
     "name": "stdout",
     "output_type": "stream",
     "text": [
      "Requirement already satisfied: quri-parts[quantinuum,qulacs] in /opt/.qbraid/environments/qbraid_000000/pyenv/lib/python3.11/site-packages (0.15.1)\n",
      "Requirement already satisfied: quri-parts-algo in /opt/.qbraid/environments/qbraid_000000/pyenv/lib/python3.11/site-packages (from quri-parts[quantinuum,qulacs]) (0.15.1)\n",
      "Requirement already satisfied: quri-parts-chem in /opt/.qbraid/environments/qbraid_000000/pyenv/lib/python3.11/site-packages (from quri-parts[quantinuum,qulacs]) (0.15.1)\n",
      "Requirement already satisfied: quri-parts-circuit in /opt/.qbraid/environments/qbraid_000000/pyenv/lib/python3.11/site-packages (from quri-parts[quantinuum,qulacs]) (0.15.1)\n",
      "Requirement already satisfied: quri-parts-core in /opt/.qbraid/environments/qbraid_000000/pyenv/lib/python3.11/site-packages (from quri-parts[quantinuum,qulacs]) (0.15.1)\n",
      "Collecting quri-parts-quantinuum (from quri-parts[quantinuum,qulacs])\n",
      "  Using cached quri_parts_quantinuum-0.15.1-py3-none-any.whl.metadata (1.1 kB)\n",
      "Collecting quri-parts-qulacs (from quri-parts[quantinuum,qulacs])\n",
      "  Using cached quri_parts_qulacs-0.15.1-py3-none-any.whl.metadata (1.3 kB)\n",
      "Requirement already satisfied: scipy<2.0.0,>=1.9.1 in /opt/.qbraid/environments/qbraid_000000/pyenv/lib/python3.11/site-packages (from quri-parts-algo->quri-parts[quantinuum,qulacs]) (1.11.3)\n",
      "Requirement already satisfied: typing-extensions<5.0.0,>=4.1.1 in /opt/.qbraid/environments/qbraid_000000/pyenv/lib/python3.11/site-packages (from quri-parts-algo->quri-parts[quantinuum,qulacs]) (4.8.0)\n",
      "Requirement already satisfied: numpy>=1.22.0 in /opt/.qbraid/environments/qbraid_000000/pyenv/lib/python3.11/site-packages (from quri-parts-circuit->quri-parts[quantinuum,qulacs]) (1.25.2)\n",
      "Collecting Qulacs<0.6.0,>=0.3.0 (from quri-parts-qulacs->quri-parts[quantinuum,qulacs])\n",
      "  Using cached qulacs-0.5.6-cp311-cp311-manylinux_2_17_x86_64.manylinux2014_x86_64.whl (834 kB)\n",
      "Using cached quri_parts_quantinuum-0.15.1-py3-none-any.whl (11 kB)\n",
      "Using cached quri_parts_qulacs-0.15.1-py3-none-any.whl (22 kB)\n",
      "Installing collected packages: quri-parts-quantinuum, Qulacs, quri-parts-qulacs\n",
      "Successfully installed Qulacs-0.5.6 quri-parts-quantinuum-0.15.1 quri-parts-qulacs-0.15.1\n",
      "Note: you may need to restart the kernel to use updated packages.\n"
     ]
    }
   ],
   "source": [
    "%pip install \"quri-parts[quantinuum,qulacs]\""
   ]
  },
  {
   "cell_type": "code",
   "execution_count": 3,
   "id": "204d7b91-4f8c-4c72-8b0a-bc471efd8dbf",
   "metadata": {
    "tags": []
   },
   "outputs": [],
   "source": [
    "from evaluator import EvaluateResults"
   ]
  },
  {
   "cell_type": "code",
   "execution_count": 4,
   "id": "da38e25a-33d1-4ef5-8350-d581682e89f1",
   "metadata": {
    "tags": []
   },
   "outputs": [
    {
     "name": "stdout",
     "output_type": "stream",
     "text": [
      "Running algorithm(1)..\n",
      "STEP 1: 0\n",
      "<class 'NotImplementedError'>: Only the case that obs is a Hermitian has been implemented.\n",
      "Traceback (most recent call last):\n",
      "  File \"/home/jovyan/quantum-algorithm-grand-challenge-QuantInt/problem/evaluator.py\", line 33, in get_point\n",
      "    energy, qc_time = run_algorithm.result_for_evaluation()\n",
      "                      ^^^^^^^^^^^^^^^^^^^^^^^^^^^^^^^^^^^^^\n",
      "  File \"/home/jovyan/quantum-algorithm-grand-challenge-QuantInt/problem/answer.py\", line 338, in result_for_evaluation\n",
      "    def __init__(self) -> None:\n",
      "                       ^^^^^^^^^\n",
      "  File \"/home/jovyan/quantum-algorithm-grand-challenge-QuantInt/problem/answer.py\", line 356, in get_result\n",
      "    hamiltonian = operator_from_openfermion_op(jw_hamiltonian)\n",
      "    ^^^^^^^^^^^^^^^\n",
      "  File \"/home/jovyan/quantum-algorithm-grand-challenge-QuantInt/problem/answer.py\", line 313, in run\n",
      "    while True:\n",
      "                \n",
      "  File \"/home/jovyan/quantum-algorithm-grand-challenge-QuantInt/problem/answer.py\", line 255, in select_operator\n",
      "    def select_operator(self, qc_type) -> Operator:\n",
      "                                  ^^^^^^^^^^^^^^^^^^\n",
      "  File \"/home/jovyan/quantum-algorithm-grand-challenge-QuantInt/problem/answer.py\", line 248, in get_operator_gradient\n",
      "    zne_parametric_estimator = create_parametric_estimator(zne_estimator)\n",
      "                          ^^^^^^^^^^^^^^^^^^^^^^^^^^^^^^^^^^^^^^^^^^^^^^^^\n",
      "  File \"/opt/.qbraid/environments/qbraid_000000/pyenv/lib/python3.11/site-packages/quri_parts/core/estimator/__init__.py\", line 207, in parametric_estimator\n",
      "    return estimator(operator, s)\n",
      "           ^^^^^^^^^^^^^^^^^^^^^^\n",
      "  File \"/opt/.qbraid/environments/qbraid_000000/pyenv/lib/python3.11/site-packages/quri_parts/algo/mitigation/zne/zne.py\", line 340, in zne_estimator\n",
      "    zne_value = zne(\n",
      "                ^^^^\n",
      "  File \"/opt/.qbraid/environments/qbraid_000000/pyenv/lib/python3.11/site-packages/quri_parts/algo/mitigation/zne/zne.py\", line 272, in zne\n",
      "    raise NotImplementedError(\n",
      "NotImplementedError: Only the case that obs is a Hermitian has been implemented.\n",
      "Algorithm points: 0\n",
      "Energy result history: []\n",
      "Finished\n"
     ]
    }
   ],
   "source": [
    "point_eval = EvaluateResults()\n",
    "point_eval.get_point(n_run=1)\n",
    "print(f\"Algorithm points: {point_eval.points}\")\n",
    "print(f\"Energy result history: {point_eval.result_history}\")\n",
    "print(\"Finished\")"
   ]
  },
  {
   "cell_type": "code",
   "execution_count": null,
   "id": "46259b41-3b0c-4a0a-90b2-3b245e723118",
   "metadata": {},
   "outputs": [],
   "source": []
  }
 ],
 "metadata": {
  "kernelspec": {
   "display_name": "Python 3 [Default]",
   "language": "python",
   "name": "python3"
  },
  "language_info": {
   "codemirror_mode": {
    "name": "ipython",
    "version": 3
   },
   "file_extension": ".py",
   "mimetype": "text/x-python",
   "name": "python",
   "nbconvert_exporter": "python",
   "pygments_lexer": "ipython3",
   "version": "3.11.6"
  }
 },
 "nbformat": 4,
 "nbformat_minor": 5
}
